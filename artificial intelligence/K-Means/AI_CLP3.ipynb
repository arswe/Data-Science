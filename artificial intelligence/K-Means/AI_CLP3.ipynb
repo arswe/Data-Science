{
  "nbformat": 4,
  "nbformat_minor": 0,
  "metadata": {
    "colab": {
      "provenance": [],
      "toc_visible": true
    },
    "kernelspec": {
      "name": "python3",
      "display_name": "Python 3"
    },
    "language_info": {
      "name": "python"
    }
  },
  "cells": [
    {
      "cell_type": "code",
      "execution_count": 2,
      "metadata": {
        "colab": {
          "base_uri": "https://localhost:8080/"
        },
        "id": "fOFxr6z97Ex4",
        "outputId": "a0cfbfab-e156-4b9c-e057-ee2e5a7f8eee"
      },
      "outputs": [
        {
          "output_type": "stream",
          "name": "stdout",
          "text": [
            "After iteration 1, cluster 1:\n",
            "[12, 20, 30, 11, 25]\n",
            "\n",
            "After iteration 1, cluster 2:\n",
            "[3]\n",
            "\n",
            "After iteration 2, cluster 1:\n",
            "[12, 20, 30, 25]\n",
            "\n",
            "After iteration 2, cluster 2:\n",
            "[3, 11]\n",
            "\n",
            "After iteration 3, cluster 1:\n",
            "[20, 30, 25]\n",
            "\n",
            "After iteration 3, cluster 2:\n",
            "[12, 3, 11]\n",
            "\n",
            "After iteration 4, cluster 1:\n",
            "[20, 30, 25]\n",
            "\n",
            "After iteration 4, cluster 2:\n",
            "[12, 3, 11]\n",
            "\n",
            "Final cluster 1:\n",
            " [20, 30, 25]\n",
            "Final cluster 2:\n",
            " [12, 3, 11]\n"
          ]
        }
      ],
      "source": [
        "def k_means_clustering(data):\n",
        "    m1, m2 = data[0], data[1]  # Initial centroids\n",
        "    n = 0\n",
        "    flag = True\n",
        "\n",
        "    cluster1 = []\n",
        "    cluster2 = []\n",
        "\n",
        "    while flag:\n",
        "        sum1, sum2 = 0, 0\n",
        "        cluster1.clear()\n",
        "        cluster2.clear()\n",
        "        n += 1\n",
        "        k, j = 0, 0\n",
        "\n",
        "        for num in data:\n",
        "            if abs(num - m1) <= abs(num - m2):\n",
        "                cluster1.append(num)\n",
        "                k += 1\n",
        "            else:\n",
        "                cluster2.append(num)\n",
        "                j += 1\n",
        "\n",
        "        for num in cluster1:\n",
        "            sum1 += num\n",
        "\n",
        "        for num in cluster2:\n",
        "            sum2 += num\n",
        "\n",
        "        print(f\"After iteration {n}, cluster 1:\\n{cluster1}\\n\")\n",
        "        print(f\"After iteration {n}, cluster 2:\\n{cluster2}\\n\")\n",
        "\n",
        "        a, b = m1, m2\n",
        "        if k > 0:\n",
        "            m1 = round(sum1 / k)\n",
        "        if j > 0:\n",
        "            m2 = round(sum2 / j)\n",
        "        flag = not (m1 == a and m2 == b)\n",
        "\n",
        "    print(\"Final cluster 1:\\n\", cluster1)\n",
        "    print(\"Final cluster 2:\\n\", cluster2)\n",
        "\n",
        "data = [12, 3, 20, 30, 11, 25]\n",
        "k_means_clustering(data)\n"
      ]
    }
  ]
}